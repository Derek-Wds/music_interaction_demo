{
 "cells": [
  {
   "cell_type": "code",
   "execution_count": 23,
   "metadata": {},
   "outputs": [],
   "source": [
    "import torch, os\n",
    "import IPython.display\n",
    "import numpy as np\n",
    "import matplotlib.pyplot as plt\n",
    "from src.models.model import VAE\n",
    "from src.utils import *\n",
    "from src.interact_func import *"
   ]
  },
  {
   "cell_type": "code",
   "execution_count": 24,
   "metadata": {},
   "outputs": [],
   "source": [
    "sample = torch.from_numpy(np.load('data/source_data.npy')).float()\n",
    "target = torch.from_numpy(np.load('data/target_data.npy')).float()"
   ]
  },
  {
   "cell_type": "code",
   "execution_count": 25,
   "metadata": {},
   "outputs": [],
   "source": [
    "sample = sample[0].reshape(1, 32, 130).cuda()\n",
    "target = target[0].reshape(1, 32, 130).cuda()"
   ]
  },
  {
   "cell_type": "code",
   "execution_count": 26,
   "metadata": {},
   "outputs": [],
   "source": [
    "pitch_dim = np.setdiff1d(range(128), [117, 45, 79, 1, 73]).tolist()\n",
    "rhythm_dim = np.setdiff1d(range(128), [127, 96, 7, 84, 60]).tolist()"
   ]
  },
  {
   "cell_type": "code",
   "execution_count": 27,
   "metadata": {},
   "outputs": [],
   "source": [
    "def np_midi(sample_roll, display=False, interpolation=False):\n",
    "    music = pretty_midi.PrettyMIDI()\n",
    "    piano_program = pretty_midi.instrument_name_to_program(\n",
    "        'Acoustic Grand Piano')\n",
    "    piano = pretty_midi.Instrument(program=piano_program)\n",
    "    t = 0\n",
    "    for i in sample_roll:\n",
    "        if 'torch' in str(type(i)):\n",
    "            pitch = int(i.max(0)[1])\n",
    "        else:\n",
    "            pitch = int(np.argmax(i))\n",
    "        if pitch < 128:\n",
    "            note = pretty_midi.Note(\n",
    "                velocity=100, pitch=pitch, start=t, end=t + 1 / 16)\n",
    "            t += 1 / 16\n",
    "            piano.notes.append(note)\n",
    "        elif pitch == 128:\n",
    "            if len(piano.notes) > 0:\n",
    "                note = piano.notes.pop()\n",
    "            else:\n",
    "                p = np.random.randint(60, 72)\n",
    "                note = pretty_midi.Note(\n",
    "                    velocity=100,\n",
    "                    pitch=int(p),\n",
    "                    start=0,\n",
    "                    end=t\n",
    "                )\n",
    "            note = pretty_midi.Note(\n",
    "                velocity=100,\n",
    "                pitch=note.pitch,\n",
    "                start=note.start,\n",
    "                end=note.end + 1 / 16)\n",
    "            piano.notes.append(note)\n",
    "            t += 1 / 16\n",
    "        elif pitch == 129:\n",
    "            t += 1 / 16\n",
    "    music.instruments.append(piano)\n",
    "        \n",
    "    return music.get_piano_roll(100)[48:84]"
   ]
  },
  {
   "cell_type": "code",
   "execution_count": 28,
   "metadata": {},
   "outputs": [
    {
     "name": "stdout",
     "output_type": "stream",
     "text": [
      "row 1 done!\n",
      "row 2 done!\n",
      "row 3 done!\n",
      "row 4 done!\n",
      "row 5 done!\n"
     ]
    }
   ],
   "source": [
    "model = load_old_model('params/tr_128.pt')\n",
    "z = model.encode(sample).mean\n",
    "zt = model.encode(target).mean\n",
    "p0=z\n",
    "p1=zt\n",
    "interpolation_rate = 1.\n",
    "\n",
    "t = [0., 0.25, 0.5, 0.75, 1.]\n",
    "\n",
    "piano_rolls = []\n",
    "for i in range(5):\n",
    "    temp = []\n",
    "    for j in range(5):\n",
    "        omega = torch.tensor(np.pi/2)\n",
    "        # pitch\n",
    "        A = torch.sin((1. - t[i]) * omega) / torch.sin(omega)\n",
    "        B = torch.sin(t[i] * omega) / torch.sin(omega)\n",
    "        # rhythm\n",
    "        A_ = torch.sin((1. - t[j]) * omega) / torch.sin(omega)\n",
    "        B_ = torch.sin(t[j] * omega) / torch.sin(omega)\n",
    "        \n",
    "        z0 = p0 + 0\n",
    "        z0[:, pitch_dim] *= A\n",
    "        z0[:, rhythm_dim] *= A_\n",
    "        z1 = p1 + 0\n",
    "        z1[:, pitch_dim] *= B\n",
    "        z1[:, rhythm_dim] *= B_\n",
    "        z0[:, pitch_dim] += z1[:, pitch_dim]\n",
    "        z0[:, rhythm_dim] += z1[:, rhythm_dim]\n",
    "        output = model.decode(z0)\n",
    "        output = output.cpu().data.numpy()\n",
    "        output = np_midi(np.concatenate(output, 0))\n",
    "        temp.append(output)\n",
    "    piano_rolls.append(temp)\n",
    "    print(\"row {} done!\".format(i+1))"
   ]
  },
  {
   "cell_type": "code",
   "execution_count": 29,
   "metadata": {},
   "outputs": [
    {
     "data": {
      "text/plain": [
       "<Figure size 4320x4320 with 0 Axes>"
      ]
     },
     "metadata": {},
     "output_type": "display_data"
    },
    {
     "data": {
      "image/png": "[encoded data removed]",
      "text/plain": [
       "<Figure size 1080x1080 with 25 Axes>"
      ]
     },
     "metadata": {
      "needs_background": "light"
     },
     "output_type": "display_data"
    }
   ],
   "source": [
    "colors = [\"#6600cc\",\"#750fb8\",\"#851fa3\",\"#942e8f\",\"#a33d7a\",\"#b24c66\",\"#c25c52\",\"#d16b3d\",\"#e8821f\",\"#f02e14\"]\n",
    "alignment = {'horizontalalignment': 'center', 'verticalalignment': 'baseline'}\n",
    "\n",
    "plt.figure(figsize=(60, 60))\n",
    "fig, axs = plt.subplots(5, 5, figsize=(15, 15))\n",
    "\n",
    "# from top to bottom\n",
    "for i in range(5):\n",
    "    \n",
    "    # from left to right\n",
    "    for j in range(5):\n",
    "        ax = axs[i][j]\n",
    "        cmap = matplotlib.colors.ListedColormap([colors[i+j], \"white\"])\n",
    "        ax.pcolor(piano_rolls[i][j], cmap=cmap)\n",
    "        ax.set_axis_off()\n",
    "            \n",
    "plt.subplots_adjust(wspace=0.05, hspace=0.05)\n",
    "plt.savefig('interpolation.png',bbox_inches=\"tight\", dpi=300)\n",
    "plt.show()"
   ]
  },
  {
   "cell_type": "code",
   "execution_count": 30,
   "metadata": {},
   "outputs": [],
   "source": [
    "os.remove('data/source_data.npy')\n",
    "os.remove('data/target_data.npy')"
   ]
  },
  {
   "cell_type": "code",
   "execution_count": null,
   "metadata": {},
   "outputs": [],
   "source": []
  }
 ],
 "metadata": {
  "kernelspec": {
   "display_name": "Python 3",
   "language": "python",
   "name": "python3"
  },
  "language_info": {
   "codemirror_mode": {
    "name": "ipython",
    "version": 3
   },
   "file_extension": ".py",
   "mimetype": "text/x-python",
   "name": "python",
   "nbconvert_exporter": "python",
   "pygments_lexer": "ipython3",
   "version": "3.7.1"
  }
 },
 "nbformat": 4,
 "nbformat_minor": 2
}
