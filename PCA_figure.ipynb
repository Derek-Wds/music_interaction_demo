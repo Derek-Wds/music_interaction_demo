{
 "cells": [
  {
   "cell_type": "code",
   "execution_count": 15,
   "metadata": {},
   "outputs": [],
   "source": [
    "import torch, os\n",
    "import IPython.display\n",
    "import numpy as np\n",
    "import matplotlib.pyplot as plt\n",
    "from src.models.model import VAE\n",
    "from src.utils import *\n",
    "from src.interact_func import *"
   ]
  },
  {
   "cell_type": "code",
   "execution_count": 16,
   "metadata": {},
   "outputs": [],
   "source": [
    "model = VAE(130, 2048, 512, 32)\n",
    "model.eval()\n",
    "dic = torch.load('params/tr_512.pt')\n",
    "for name in list(dic.keys()):\n",
    "    dic[name.replace('module.', '')] = dic.pop(name)\n",
    "model.load_state_dict(dic)\n",
    "if torch.cuda.is_available():\n",
    "    model = model.cuda()\n",
    "\n",
    "\n",
    "\n",
    "data1 = np.load('/scratch/dw1920/batch_0.npy')\n",
    "# data2 = np.load('/scratch/dw1920/batch_1.npy')\n",
    "# data3 = np.load('/scratch/dw1920/batch_2.npy')"
   ]
  },
  {
   "cell_type": "code",
   "execution_count": 17,
   "metadata": {},
   "outputs": [
    {
     "name": "stdout",
     "output_type": "stream",
     "text": [
      "0\n",
      "1\n",
      "2\n",
      "3\n",
      "4\n"
     ]
    }
   ],
   "source": [
    "# data = torch.from_numpy(np.concatenate(np.array([data1, data2]), 0)).float().cuda()\n",
    "\n",
    "all_z = []\n",
    "batch_size = 1000\n",
    "for i in range(5):\n",
    "    data = torch.from_numpy(data1[i*batch_size:(i+1)*batch_size]).float().cuda()\n",
    "    z = model.encode(data).mean\n",
    "    all_z.append(z)\n",
    "    print(i)\n"
   ]
  },
  {
   "cell_type": "code",
   "execution_count": 18,
   "metadata": {},
   "outputs": [
    {
     "data": {
      "text/plain": [
       "torch.Tensor"
      ]
     },
     "execution_count": 18,
     "metadata": {},
     "output_type": "execute_result"
    }
   ],
   "source": [
    "type(all_z[0])"
   ]
  },
  {
   "cell_type": "code",
   "execution_count": 19,
   "metadata": {},
   "outputs": [
    {
     "data": {
      "text/plain": [
       "array([[-1.2615542 , -2.2263117 ,  0.8897488 , ...,  0.03317183,\n",
       "        -0.09226421,  0.34385967],\n",
       "       [ 0.8389838 ,  1.1704395 ,  0.31019267, ..., -0.12176513,\n",
       "         0.22630328,  0.12055749],\n",
       "       [-0.99568903,  0.30684435, -1.1774368 , ...,  0.71297   ,\n",
       "         0.854703  , -0.33980358],\n",
       "       ...,\n",
       "       [11.064863  , -7.722664  ,  0.87898755, ..., -1.0022595 ,\n",
       "         0.39759946, -0.5521507 ],\n",
       "       [ 3.7771738 ,  0.991492  ,  9.9278    , ..., -0.44660226,\n",
       "         0.38607597,  0.32532632],\n",
       "       [ 5.0934505 , -1.835253  ,  2.7705803 , ..., -0.9632384 ,\n",
       "         0.01559624, -0.45758602]], dtype=float32)"
      ]
     },
     "execution_count": 19,
     "metadata": {},
     "output_type": "execute_result"
    }
   ],
   "source": [
    "from sklearn.decomposition import PCA\n",
    "from sklearn.preprocessing import StandardScaler\n",
    "\n",
    "for i in range(len(all_z)):\n",
    "    all_z[i] = all_z[i].cpu().detach().numpy()\n",
    "x=np.concatenate(np.array(all_z), 0)\n",
    "X_scaler = StandardScaler()\n",
    "x = X_scaler.fit_transform(x)\n",
    "pca = PCA(n_components=128)\n",
    "pca.fit(x)\n",
    "pca.transform(x)"
   ]
  },
  {
   "cell_type": "code",
   "execution_count": 20,
   "metadata": {},
   "outputs": [],
   "source": [
    "cov_mat = np.cov(x, rowvar = 0)"
   ]
  },
  {
   "cell_type": "code",
   "execution_count": 21,
   "metadata": {},
   "outputs": [],
   "source": [
    "sigma = cov_mat\n",
    "[U,S,V] = np.linalg.svd(sigma)"
   ]
  },
  {
   "cell_type": "code",
   "execution_count": 22,
   "metadata": {},
   "outputs": [
    {
     "name": "stdout",
     "output_type": "stream",
     "text": [
      "0.9661125907660287\n"
     ]
    }
   ],
   "source": [
    "s_out = 0\n",
    "for i in range(128):\n",
    "    s_out += S[i]\n",
    "\n",
    "t_out = 0\n",
    "for i in range(512):\n",
    "    t_out += S[i]\n",
    "    \n",
    "print(s_out/t_out)"
   ]
  },
  {
   "cell_type": "code",
   "execution_count": 23,
   "metadata": {},
   "outputs": [
    {
     "name": "stdout",
     "output_type": "stream",
     "text": [
      "[0.11540154 0.09093891 0.0659811  0.05960666 0.04784144 0.04277214\n",
      " 0.03712246 0.03617282 0.03034284 0.02933167 0.02633814 0.02465648\n",
      " 0.02178675 0.02111817 0.01713296 0.01462198 0.01320409 0.012305\n",
      " 0.01022801 0.00953726 0.00919478 0.00805156 0.00757843 0.00682487\n",
      " 0.00650647 0.00592965 0.00545891 0.00535974 0.00517078 0.00504726\n",
      " 0.0046514  0.0044609  0.00432828 0.00420862 0.00399755 0.00389691\n",
      " 0.00384792 0.00377787 0.00362731 0.00356631 0.00352075 0.00341042\n",
      " 0.00331298 0.00330631 0.00324043 0.00315776 0.00301609 0.00290136\n",
      " 0.00285985 0.00279208 0.00275931 0.00261702 0.00258727 0.00256321\n",
      " 0.00254293 0.00239247 0.00238028 0.00235644 0.00228494 0.00223844\n",
      " 0.00221696 0.0021245  0.00206478 0.00203259 0.00195034 0.00191996\n",
      " 0.00189534 0.00182772 0.0017886  0.00175027 0.00174729 0.00171156\n",
      " 0.00167801 0.00165919 0.00162343 0.00158117 0.00153189 0.00149198\n",
      " 0.00145677 0.00142499 0.00139605 0.00137985 0.00133481 0.00131069\n",
      " 0.00129688 0.00125984 0.00123706 0.00122696 0.00118579 0.00118028\n",
      " 0.00114418 0.00110602 0.0010798  0.00106448 0.00102975 0.00101235\n",
      " 0.0010062  0.00095163 0.0009393  0.00090915 0.00089855 0.00088752\n",
      " 0.00087351 0.00084173 0.00082659 0.00081709 0.00080267 0.00077525\n",
      " 0.00076767 0.00073822 0.00072408 0.00071859 0.00070854 0.00070069\n",
      " 0.00068763 0.00067906 0.00063823 0.00062777 0.00062373 0.00059287\n",
      " 0.00058096 0.0005726  0.00056645 0.00054653 0.00052683 0.00052277\n",
      " 0.00051233 0.0004937 ]\n"
     ]
    }
   ],
   "source": [
    "print(pca.explained_variance_ratio_)"
   ]
  },
  {
   "cell_type": "code",
   "execution_count": 24,
   "metadata": {},
   "outputs": [
    {
     "name": "stdout",
     "output_type": "stream",
     "text": [
      "{1: 0.11540154, 2: 0.09093891, 3: 0.0659811, 4: 0.059606664, 5: 0.04784144, 6: 0.042772144, 7: 0.03712246, 8: 0.036172822, 9: 0.030342843, 10: 0.029331665, 11: 0.026338138, 12: 0.024656476, 13: 0.021786751, 14: 0.021118168, 15: 0.01713296, 16: 0.014621983, 17: 0.013204089, 18: 0.012304998, 19: 0.010228014, 20: 0.009537259, 21: 0.009194784, 22: 0.008051561, 23: 0.0075784298, 24: 0.00682487, 25: 0.0065064654, 26: 0.005929651, 27: 0.0054589137, 28: 0.0053597423, 29: 0.005170776, 30: 0.0050472585, 31: 0.004651405, 32: 0.004460899, 33: 0.0043282844, 34: 0.0042086183, 35: 0.0039975517, 36: 0.0038969102, 37: 0.003847918, 38: 0.003777872, 39: 0.0036273133, 40: 0.0035663124, 41: 0.0035207465, 42: 0.003410421, 43: 0.0033129766, 44: 0.0033063148, 45: 0.0032404256, 46: 0.0031577607, 47: 0.0030160856, 48: 0.002901356, 49: 0.0028598495, 50: 0.002792075, 51: 0.0027593134, 52: 0.0026170209, 53: 0.0025872693, 54: 0.0025632123, 55: 0.0025429316, 56: 0.002392472, 57: 0.0023802777, 58: 0.0023564366, 59: 0.0022849415, 60: 0.002238442, 61: 0.0022169647, 62: 0.0021245037, 63: 0.002064783, 64: 0.002032593, 65: 0.0019503377, 66: 0.0019199562, 67: 0.001895343, 68: 0.001827717, 69: 0.0017885976, 70: 0.0017502732, 71: 0.0017472908, 72: 0.0017115588, 73: 0.0016780085, 74: 0.0016591869, 75: 0.0016234264, 76: 0.0015811662, 77: 0.0015318881, 78: 0.0014919766, 79: 0.0014567681, 80: 0.0014249943, 81: 0.0013960496, 82: 0.0013798481, 83: 0.0013348149, 84: 0.0013106872, 85: 0.0012968793, 86: 0.0012598388, 87: 0.00123706, 88: 0.0012269561, 89: 0.0011857868, 90: 0.0011802805, 91: 0.0011441824, 92: 0.0011060179, 93: 0.0010797951, 94: 0.0010644753, 95: 0.0010297521, 96: 0.0010123525, 97: 0.0010062011, 98: 0.00095163006, 99: 0.00093930063, 100: 0.00090914796, 101: 0.00089854805, 102: 0.0008875206, 103: 0.00087351387, 104: 0.00084173324, 105: 0.0008265863, 106: 0.0008170944, 107: 0.0008026666, 108: 0.0007752461, 109: 0.0007676732, 110: 0.00073822355, 111: 0.00072408176, 112: 0.00071859465, 113: 0.00070854137, 114: 0.00070069387, 115: 0.00068762596, 116: 0.0006790603, 117: 0.0006382263, 118: 0.000627773, 119: 0.00062373077, 120: 0.0005928727, 121: 0.0005809618, 122: 0.00057260395, 123: 0.00056644966, 124: 0.00054653443, 125: 0.0005268325, 126: 0.00052276684, 127: 0.0005123285, 128: 0.00049369875}\n"
     ]
    }
   ],
   "source": [
    "var = pca.explained_variance_ratio_\n",
    "varz = {}\n",
    "\n",
    "for i, j in enumerate(var):\n",
    "    varz[i+1] = j\n",
    "print(varz)"
   ]
  },
  {
   "cell_type": "code",
   "execution_count": 25,
   "metadata": {},
   "outputs": [],
   "source": [
    "sorted_by_value = sorted(varz.items(), key=lambda kv: kv[1])"
   ]
  },
  {
   "cell_type": "code",
   "execution_count": 26,
   "metadata": {
    "scrolled": true
   },
   "outputs": [],
   "source": [
    "sorted_by_value.reverse()"
   ]
  },
  {
   "cell_type": "code",
   "execution_count": 28,
   "metadata": {},
   "outputs": [
    {
     "data": {
      "image/png": "[encoded data removed]",
      "text/plain": [
       "<Figure size 864x720 with 1 Axes>"
      ]
     },
     "metadata": {
      "needs_background": "light"
     },
     "output_type": "display_data"
    }
   ],
   "source": [
    "dims = [i[0] for i in sorted_by_value]\n",
    "var = [i[1] for i in sorted_by_value]\n",
    "v = []\n",
    "for i in var:\n",
    "    if len(v) == 0:\n",
    "        v.append(i)\n",
    "    else:\n",
    "        v.append(v[-1]+i)\n",
    "plt.figure(figsize=(12, 10))\n",
    "plt.ylabel('Variances', fontsize=25)\n",
    "plt.xlabel(\"Dimension Indices\", fontsize=25)\n",
    "plt.xticks(fontsize=20)\n",
    "plt.yticks(fontsize=20)\n",
    "plt.plot(dims, v, color='red', linestyle='solid')\n",
    "plt.title('')\n",
    "plt.savefig('pca.png',bbox_inches=\"tight\", dpi=300)\n",
    "plt.show()\n"
   ]
  },
  {
   "cell_type": "code",
   "execution_count": null,
   "metadata": {},
   "outputs": [],
   "source": []
  }
 ],
 "metadata": {
  "kernelspec": {
   "display_name": "Python 3",
   "language": "python",
   "name": "python3"
  },
  "language_info": {
   "codemirror_mode": {
    "name": "ipython",
    "version": 3
   },
   "file_extension": ".py",
   "mimetype": "text/x-python",
   "name": "python",
   "nbconvert_exporter": "python",
   "pygments_lexer": "ipython3",
   "version": "3.7.1"
  }
 },
 "nbformat": 4,
 "nbformat_minor": 2
}
