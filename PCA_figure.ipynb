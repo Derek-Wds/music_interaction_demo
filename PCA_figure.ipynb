{
 "cells": [
  {
   "cell_type": "code",
   "execution_count": 1,
   "metadata": {},
   "outputs": [],
   "source": [
    "import torch, os\n",
    "import IPython.display\n",
    "import numpy as np\n",
    "import matplotlib.pyplot as plt\n",
    "from src.models.model import VAE\n",
    "from src.utils import *\n",
    "from src.interact_func import *"
   ]
  },
  {
   "cell_type": "code",
   "execution_count": 2,
   "metadata": {},
   "outputs": [],
   "source": [
    "model = VAE(130, 2048, 512, 32)\n",
    "model.eval()\n",
    "dic = torch.load('params/tr_512.pt')\n",
    "for name in list(dic.keys()):\n",
    "    dic[name.replace('module.', '')] = dic.pop(name)\n",
    "model.load_state_dict(dic)\n",
    "if torch.cuda.is_available():\n",
    "    model = model.cuda()\n",
    "\n",
    "\n",
    "\n",
    "data1 = np.load('/scratch/dw1920/batch_0.npy')\n",
    "# data2 = np.load('/scratch/dw1920/batch_1.npy')\n",
    "# data3 = np.load('/scratch/dw1920/batch_2.npy')"
   ]
  },
  {
   "cell_type": "code",
   "execution_count": 3,
   "metadata": {},
   "outputs": [
    {
     "name": "stdout",
     "output_type": "stream",
     "text": [
      "0\n",
      "1\n",
      "2\n",
      "3\n",
      "4\n"
     ]
    }
   ],
   "source": [
    "# data = torch.from_numpy(np.concatenate(np.array([data1, data2]), 0)).float().cuda()\n",
    "\n",
    "all_z = []\n",
    "batch_size = 1000\n",
    "for i in range(5):\n",
    "    data = torch.from_numpy(data1[i*batch_size:(i+1)*batch_size]).float().cuda()\n",
    "    z = model.encode(data).mean\n",
    "    all_z.append(z)\n",
    "    print(i)\n"
   ]
  },
  {
   "cell_type": "code",
   "execution_count": 5,
   "metadata": {},
   "outputs": [
    {
     "data": {
      "text/plain": [
       "torch.Tensor"
      ]
     },
     "execution_count": 5,
     "metadata": {},
     "output_type": "execute_result"
    }
   ],
   "source": [
    "type(all_z[0])"
   ]
  },
  {
   "cell_type": "code",
   "execution_count": 10,
   "metadata": {},
   "outputs": [
    {
     "data": {
      "text/plain": [
       "array([[-1.4823895e+00, -2.9129460e-01,  2.0868653e-01, ...,\n",
       "        -3.3182394e-02,  6.9681015e-03,  4.5347698e-03],\n",
       "       [-1.2623867e+00,  6.8948340e-01,  2.0349021e+00, ...,\n",
       "        -1.0947505e-01, -6.2184788e-02, -1.5327931e-02],\n",
       "       [-1.5540783e+00, -8.1145763e-04,  1.8969086e+00, ...,\n",
       "        -4.3501098e-02, -4.3239452e-02, -7.7083334e-03],\n",
       "       ...,\n",
       "       [ 2.6605687e-01,  6.3742733e-01, -4.7860944e-01, ...,\n",
       "        -3.8995083e-02,  1.2030527e-02,  4.0915519e-02],\n",
       "       [ 4.7515911e-01,  5.3730255e-01, -7.4957508e-01, ...,\n",
       "        -8.8218123e-02,  4.9100235e-02,  1.3837695e-02],\n",
       "       [ 2.1898973e-01,  3.9276981e-01, -1.0016798e+00, ...,\n",
       "        -1.0235637e-02,  3.1893142e-06,  2.3176968e-03]], dtype=float32)"
      ]
     },
     "execution_count": 10,
     "metadata": {},
     "output_type": "execute_result"
    }
   ],
   "source": [
    "from sklearn.decomposition import PCA\n",
    "\n",
    "for i in range(len(all_z)):\n",
    "    all_z[i] = all_z[i].cpu().detach().numpy()\n",
    "x=np.concatenate(np.array(all_z), 0)\n",
    "X_scaler = StandardScaler()\n",
    "x = X_scaler.fit_transform(x)\n",
    "pca = PCA(n_components=128)\n",
    "pca.fit(x)\n",
    "pca.transform(x)"
   ]
  },
  {
   "cell_type": "code",
   "execution_count": 12,
   "metadata": {},
   "outputs": [],
   "source": [
    "cov_mat = np.cov(x, rowvar = 0)"
   ]
  },
  {
   "cell_type": "code",
   "execution_count": 14,
   "metadata": {},
   "outputs": [],
   "source": [
    "sigma = cov_mat\n",
    "[U,S,V] = np.linalg.svd(sigma)"
   ]
  },
  {
   "cell_type": "code",
   "execution_count": 19,
   "metadata": {},
   "outputs": [
    {
     "name": "stdout",
     "output_type": "stream",
     "text": [
      "0.9985638815858726\n"
     ]
    }
   ],
   "source": [
    "s_out = 0\n",
    "for i in range(128):\n",
    "    s_out += S[i]\n",
    "\n",
    "t_out = 0\n",
    "for i in range(512):\n",
    "    t_out += S[i]\n",
    "    \n",
    "print(s_out/t_out)"
   ]
  },
  {
   "cell_type": "code",
   "execution_count": 20,
   "metadata": {},
   "outputs": [
    {
     "name": "stdout",
     "output_type": "stream",
     "text": [
      "[9.05715749e-02 4.56130132e-02 4.41077687e-02 3.64825986e-02\n",
      " 3.42627168e-02 3.13340463e-02 3.04576233e-02 2.80369911e-02\n",
      " 2.70805992e-02 2.52360888e-02 2.42980327e-02 2.33987328e-02\n",
      " 2.32443847e-02 2.22014580e-02 2.12191939e-02 2.09869724e-02\n",
      " 2.07694136e-02 1.98004805e-02 1.81677062e-02 1.77984107e-02\n",
      " 1.68580301e-02 1.60355493e-02 1.56560689e-02 1.54074822e-02\n",
      " 1.51220784e-02 1.41281420e-02 1.39214415e-02 1.33382622e-02\n",
      " 1.30666569e-02 1.25548961e-02 1.22085316e-02 1.20040700e-02\n",
      " 1.15167275e-02 1.14557939e-02 1.09044956e-02 1.06805703e-02\n",
      " 1.04183666e-02 9.99720953e-03 9.40191559e-03 8.45696963e-03\n",
      " 8.10612924e-03 8.00876226e-03 7.82672595e-03 7.54211238e-03\n",
      " 6.92399405e-03 6.51886174e-03 6.33058604e-03 6.13758806e-03\n",
      " 5.85615309e-03 5.38828503e-03 5.02050156e-03 4.68285615e-03\n",
      " 4.59481589e-03 4.47491603e-03 4.17616777e-03 3.93403368e-03\n",
      " 3.54929082e-03 3.46350041e-03 3.14763933e-03 3.01926420e-03\n",
      " 2.87754834e-03 2.76944065e-03 2.53338972e-03 2.26060278e-03\n",
      " 1.98282441e-03 1.87477225e-03 1.67305290e-03 1.49868312e-03\n",
      " 1.43003289e-03 1.38861057e-03 1.18423149e-03 1.05256145e-03\n",
      " 8.90688330e-04 7.68819882e-04 6.37775112e-04 5.51288365e-04\n",
      " 5.39455446e-04 4.07812360e-04 3.80986981e-04 3.49555281e-04\n",
      " 3.29880277e-04 2.68384494e-04 2.55948398e-04 2.48148688e-04\n",
      " 2.25442869e-04 2.04227879e-04 1.89995655e-04 1.72715881e-04\n",
      " 1.69645456e-04 1.60354350e-04 1.39448908e-04 1.29887514e-04\n",
      " 1.21223689e-04 1.16560419e-04 1.04109662e-04 9.90907138e-05\n",
      " 9.75270086e-05 9.31886243e-05 8.94332043e-05 8.25764218e-05\n",
      " 7.84751028e-05 7.77112218e-05 7.49143801e-05 7.25997379e-05\n",
      " 6.59520083e-05 6.10166790e-05 5.92880933e-05 5.86629103e-05\n",
      " 5.40314759e-05 5.22804512e-05 4.89610356e-05 4.79541814e-05\n",
      " 4.63167562e-05 4.43587633e-05 4.34886351e-05 3.98920238e-05\n",
      " 3.93858827e-05 3.71420465e-05 3.59839505e-05 3.53294126e-05\n",
      " 3.24525245e-05 3.16841033e-05 3.04916666e-05 2.95256723e-05\n",
      " 2.89091586e-05 2.74387330e-05 2.67022788e-05 2.59933731e-05]\n"
     ]
    }
   ],
   "source": [
    "print(pca.explained_variance_ratio_)"
   ]
  },
  {
   "cell_type": "code",
   "execution_count": 22,
   "metadata": {},
   "outputs": [],
   "source": [
    "var = pca.explained_variance_ratio_\n",
    "varz = {}\n",
    "\n",
    "for i, j in enumerate(var):\n",
    "    varz[i+1] = j\n"
   ]
  },
  {
   "cell_type": "code",
   "execution_count": 23,
   "metadata": {},
   "outputs": [],
   "source": [
    "sorted_by_value = sorted(varz.items(), key=lambda kv: kv[1]).reverse()"
   ]
  },
  {
   "cell_type": "code",
   "execution_count": 26,
   "metadata": {
    "scrolled": true
   },
   "outputs": [
    {
     "data": {
      "text/plain": [
       "[(1, 0.090571575),\n",
       " (2, 0.045613013),\n",
       " (3, 0.04410777),\n",
       " (4, 0.0364826),\n",
       " (5, 0.034262717),\n",
       " (6, 0.031334046),\n",
       " (7, 0.030457623),\n",
       " (8, 0.028036991),\n",
       " (9, 0.0270806),\n",
       " (10, 0.025236089),\n",
       " (11, 0.024298033),\n",
       " (12, 0.023398733),\n",
       " (13, 0.023244385),\n",
       " (14, 0.022201458),\n",
       " (15, 0.021219194),\n",
       " (16, 0.020986972),\n",
       " (17, 0.020769414),\n",
       " (18, 0.01980048),\n",
       " (19, 0.018167706),\n",
       " (20, 0.01779841),\n",
       " (21, 0.01685803),\n",
       " (22, 0.01603555),\n",
       " (23, 0.015656069),\n",
       " (24, 0.015407482),\n",
       " (25, 0.015122078),\n",
       " (26, 0.014128142),\n",
       " (27, 0.0139214415),\n",
       " (28, 0.013338262),\n",
       " (29, 0.013066657),\n",
       " (30, 0.012554896),\n",
       " (31, 0.012208532),\n",
       " (32, 0.01200407),\n",
       " (33, 0.0115167275),\n",
       " (34, 0.011455794),\n",
       " (35, 0.010904496),\n",
       " (36, 0.01068057),\n",
       " (37, 0.010418367),\n",
       " (38, 0.0099972095),\n",
       " (39, 0.009401916),\n",
       " (40, 0.00845697),\n",
       " (41, 0.008106129),\n",
       " (42, 0.008008762),\n",
       " (43, 0.007826726),\n",
       " (44, 0.0075421124),\n",
       " (45, 0.006923994),\n",
       " (46, 0.0065188617),\n",
       " (47, 0.006330586),\n",
       " (48, 0.006137588),\n",
       " (49, 0.005856153),\n",
       " (50, 0.005388285),\n",
       " (51, 0.0050205016),\n",
       " (52, 0.004682856),\n",
       " (53, 0.004594816),\n",
       " (54, 0.004474916),\n",
       " (55, 0.004176168),\n",
       " (56, 0.0039340337),\n",
       " (57, 0.0035492908),\n",
       " (58, 0.0034635004),\n",
       " (59, 0.0031476393),\n",
       " (60, 0.0030192642),\n",
       " (61, 0.0028775483),\n",
       " (62, 0.0027694406),\n",
       " (63, 0.0025333897),\n",
       " (64, 0.0022606028),\n",
       " (65, 0.0019828244),\n",
       " (66, 0.0018747722),\n",
       " (67, 0.0016730529),\n",
       " (68, 0.0014986831),\n",
       " (69, 0.0014300329),\n",
       " (70, 0.0013886106),\n",
       " (71, 0.0011842315),\n",
       " (72, 0.0010525614),\n",
       " (73, 0.00089068833),\n",
       " (74, 0.0007688199),\n",
       " (75, 0.0006377751),\n",
       " (76, 0.00055128837),\n",
       " (77, 0.00053945545),\n",
       " (78, 0.00040781236),\n",
       " (79, 0.00038098698),\n",
       " (80, 0.00034955528),\n",
       " (81, 0.00032988028),\n",
       " (82, 0.0002683845),\n",
       " (83, 0.0002559484),\n",
       " (84, 0.0002481487),\n",
       " (85, 0.00022544287),\n",
       " (86, 0.00020422788),\n",
       " (87, 0.00018999566),\n",
       " (88, 0.00017271588),\n",
       " (89, 0.00016964546),\n",
       " (90, 0.00016035435),\n",
       " (91, 0.00013944891),\n",
       " (92, 0.00012988751),\n",
       " (93, 0.00012122369),\n",
       " (94, 0.00011656042),\n",
       " (95, 0.00010410966),\n",
       " (96, 9.9090714e-05),\n",
       " (97, 9.752701e-05),\n",
       " (98, 9.3188624e-05),\n",
       " (99, 8.9433204e-05),\n",
       " (100, 8.257642e-05),\n",
       " (101, 7.84751e-05),\n",
       " (102, 7.771122e-05),\n",
       " (103, 7.491438e-05),\n",
       " (104, 7.259974e-05),\n",
       " (105, 6.595201e-05),\n",
       " (106, 6.101668e-05),\n",
       " (107, 5.9288093e-05),\n",
       " (108, 5.866291e-05),\n",
       " (109, 5.4031476e-05),\n",
       " (110, 5.228045e-05),\n",
       " (111, 4.8961036e-05),\n",
       " (112, 4.795418e-05),\n",
       " (113, 4.6316756e-05),\n",
       " (114, 4.4358763e-05),\n",
       " (115, 4.3488635e-05),\n",
       " (116, 3.9892024e-05),\n",
       " (117, 3.9385883e-05),\n",
       " (118, 3.7142046e-05),\n",
       " (119, 3.598395e-05),\n",
       " (120, 3.5329413e-05),\n",
       " (121, 3.2452524e-05),\n",
       " (122, 3.1684103e-05),\n",
       " (123, 3.0491667e-05),\n",
       " (124, 2.9525672e-05),\n",
       " (125, 2.8909159e-05),\n",
       " (126, 2.7438733e-05),\n",
       " (127, 2.6702279e-05),\n",
       " (128, 2.5993373e-05)]"
      ]
     },
     "execution_count": 26,
     "metadata": {},
     "output_type": "execute_result"
    }
   ],
   "source": [
    "sorted_by_value"
   ]
  },
  {
   "cell_type": "code",
   "execution_count": 32,
   "metadata": {},
   "outputs": [
    {
     "data": {
      "image/png": "[encoded data removed]",
      "text/plain": [
       "<Figure size 864x720 with 1 Axes>"
      ]
     },
     "metadata": {
      "needs_background": "light"
     },
     "output_type": "display_data"
    }
   ],
   "source": [
    "dims = [i[0] for i in sorted_by_value]\n",
    "var = [i[1] for i in sorted_by_value]\n",
    "plt.figure(figsize=(12, 10))\n",
    "plt.ylabel('variances')\n",
    "plt.xlabel(\"dimension indexes\")\n",
    "plt.plot(dims, var, color='red', linestyle='solid')\n",
    "plt.title('')\n",
    "plt.savefig('pca.png',bbox_inches=\"tight\", dpi=300)\n",
    "plt.show()\n"
   ]
  },
  {
   "cell_type": "code",
   "execution_count": null,
   "metadata": {},
   "outputs": [],
   "source": []
  }
 ],
 "metadata": {
  "kernelspec": {
   "display_name": "Python 3",
   "language": "python",
   "name": "python3"
  },
  "language_info": {
   "codemirror_mode": {
    "name": "ipython",
    "version": 3
   },
   "file_extension": ".py",
   "mimetype": "text/x-python",
   "name": "python",
   "nbconvert_exporter": "python",
   "pygments_lexer": "ipython3",
   "version": "3.7.1"
  }
 },
 "nbformat": 4,
 "nbformat_minor": 2
}
